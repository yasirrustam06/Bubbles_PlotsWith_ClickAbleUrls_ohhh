{
 "cells": [
  {
   "cell_type": "markdown",
   "id": "b530dd0b",
   "metadata": {},
   "source": [
    "# `Importing all the required Packages`"
   ]
  },
  {
   "cell_type": "markdown",
   "id": "2c33d58b",
   "metadata": {},
   "source": [
    "`if you have not install these packages Simply write...`"
   ]
  },
  {
   "cell_type": "markdown",
   "id": "e5e59597",
   "metadata": {},
   "source": [
    "# `!pip install pandas `\n",
    "\n",
    "# `!pip install plotly`"
   ]
  },
  {
   "cell_type": "markdown",
   "id": "f505cd66",
   "metadata": {},
   "source": [
    "# ` !pip install browser`\n"
   ]
  },
  {
   "cell_type": "markdown",
   "id": "2ff387ea",
   "metadata": {},
   "source": [
    "# ` !pip install browser`\n"
   ]
  },
  {
   "cell_type": "code",
   "execution_count": 1,
   "id": "b5765003",
   "metadata": {},
   "outputs": [],
   "source": [
    "import pandas as pd\n",
    "import webbrowser\n",
    "import plotly.graph_objs as go\n",
    "from ipywidgets import Output, VBox\n"
   ]
  },
  {
   "cell_type": "markdown",
   "id": "d951362a",
   "metadata": {},
   "source": [
    "`Reading our csv file using the pandas in the DataFrame... `"
   ]
  },
  {
   "cell_type": "code",
   "execution_count": 2,
   "id": "a4f08589",
   "metadata": {},
   "outputs": [
    {
     "data": {
      "text/html": [
       "<div>\n",
       "<style scoped>\n",
       "    .dataframe tbody tr th:only-of-type {\n",
       "        vertical-align: middle;\n",
       "    }\n",
       "\n",
       "    .dataframe tbody tr th {\n",
       "        vertical-align: top;\n",
       "    }\n",
       "\n",
       "    .dataframe thead th {\n",
       "        text-align: right;\n",
       "    }\n",
       "</style>\n",
       "<table border=\"1\" class=\"dataframe\">\n",
       "  <thead>\n",
       "    <tr style=\"text-align: right;\">\n",
       "      <th></th>\n",
       "      <th>X-axis</th>\n",
       "      <th>Y-axis</th>\n",
       "      <th>Bubble_size</th>\n",
       "      <th>Color</th>\n",
       "      <th>url</th>\n",
       "      <th>Label</th>\n",
       "    </tr>\n",
       "  </thead>\n",
       "  <tbody>\n",
       "    <tr>\n",
       "      <th>0</th>\n",
       "      <td>10</td>\n",
       "      <td>4</td>\n",
       "      <td>3</td>\n",
       "      <td>Blue</td>\n",
       "      <td>https://ClinicalTrials.gov/show/NCT00897468</td>\n",
       "      <td>NCT00897468</td>\n",
       "    </tr>\n",
       "    <tr>\n",
       "      <th>1</th>\n",
       "      <td>2</td>\n",
       "      <td>19</td>\n",
       "      <td>11</td>\n",
       "      <td>Red</td>\n",
       "      <td>https://ClinicalTrials.gov/show/NCT00655005</td>\n",
       "      <td>NCT00655005</td>\n",
       "    </tr>\n",
       "    <tr>\n",
       "      <th>2</th>\n",
       "      <td>7</td>\n",
       "      <td>5</td>\n",
       "      <td>15</td>\n",
       "      <td>Green</td>\n",
       "      <td>https://ClinicalTrials.gov/show/NCT00897650</td>\n",
       "      <td>NCT00897650</td>\n",
       "    </tr>\n",
       "    <tr>\n",
       "      <th>3</th>\n",
       "      <td>12</td>\n",
       "      <td>12</td>\n",
       "      <td>4</td>\n",
       "      <td>Yellow</td>\n",
       "      <td>https://ClinicalTrials.gov/show/NCT00193037</td>\n",
       "      <td>NCT00193037</td>\n",
       "    </tr>\n",
       "    <tr>\n",
       "      <th>4</th>\n",
       "      <td>12</td>\n",
       "      <td>8</td>\n",
       "      <td>1</td>\n",
       "      <td>Blue</td>\n",
       "      <td>https://ClinicalTrials.gov/show/NCT05051631</td>\n",
       "      <td>NCT05051631</td>\n",
       "    </tr>\n",
       "  </tbody>\n",
       "</table>\n",
       "</div>"
      ],
      "text/plain": [
       "   X-axis  Y-axis  Bubble_size   Color  \\\n",
       "0      10       4            3    Blue   \n",
       "1       2      19           11     Red   \n",
       "2       7       5           15   Green   \n",
       "3      12      12            4  Yellow   \n",
       "4      12       8            1    Blue   \n",
       "\n",
       "                                           url        Label  \n",
       "0  https://ClinicalTrials.gov/show/NCT00897468  NCT00897468  \n",
       "1  https://ClinicalTrials.gov/show/NCT00655005  NCT00655005  \n",
       "2  https://ClinicalTrials.gov/show/NCT00897650  NCT00897650  \n",
       "3  https://ClinicalTrials.gov/show/NCT00193037  NCT00193037  \n",
       "4  https://ClinicalTrials.gov/show/NCT05051631  NCT05051631  "
      ]
     },
     "execution_count": 2,
     "metadata": {},
     "output_type": "execute_result"
    }
   ],
   "source": [
    "data_frame=pd.read_csv('Bubble.csv')\n",
    "\n",
    "data_frame.head()"
   ]
  },
  {
   "cell_type": "code",
   "execution_count": null,
   "id": "a6fd92be",
   "metadata": {},
   "outputs": [],
   "source": []
  },
  {
   "cell_type": "markdown",
   "id": "dba8b54c",
   "metadata": {},
   "source": [
    "`Accessing the Color Column from our data_frame.... and converting into their rgb values`"
   ]
  },
  {
   "cell_type": "code",
   "execution_count": 3,
   "id": "c307eb03",
   "metadata": {},
   "outputs": [
    {
     "data": {
      "text/plain": [
       "0      Blue\n",
       "1       Red\n",
       "2     Green\n",
       "3    Yellow\n",
       "4      Blue\n",
       "5       Red\n",
       "6     Green\n",
       "7    Yellow\n",
       "8      Blue\n",
       "9       Red\n",
       "Name: Color, dtype: object"
      ]
     },
     "execution_count": 3,
     "metadata": {},
     "output_type": "execute_result"
    }
   ],
   "source": [
    "data_frame['Color']"
   ]
  },
  {
   "cell_type": "markdown",
   "id": "23ad135c",
   "metadata": {},
   "source": [
    "`corresponding rgb values of all the colours are given below ...` \n",
    "\n"
   ]
  },
  {
   "cell_type": "markdown",
   "id": "e4c2d43c",
   "metadata": {},
   "source": [
    "`we will have to give the colur in their RGB values because ...`"
   ]
  },
  {
   "cell_type": "markdown",
   "id": "19a97998",
   "metadata": {},
   "source": [
    "`plotly accept the RGB values not the names ogf the colours...`"
   ]
  },
  {
   "cell_type": "code",
   "execution_count": null,
   "id": "62e59871",
   "metadata": {},
   "outputs": [],
   "source": []
  },
  {
   "cell_type": "code",
   "execution_count": 4,
   "id": "3779efd4",
   "metadata": {},
   "outputs": [],
   "source": [
    "colours=['rgb(0, 0, 255)', 'rgb(255, 0, 0)',  'rgb(0, 255, 0)', 'rgb(255, 255, 0)',\n",
    "       'rgb(0, 0, 255)', 'rgb(255, 0, 0)',  'rgb(0, 255, 0)', \n",
    "       'rgb(255, 255, 0)','rgb(0, 0, 255)', 'rgb(255, 0, 0)']"
   ]
  },
  {
   "cell_type": "code",
   "execution_count": null,
   "id": "8b10475e",
   "metadata": {},
   "outputs": [],
   "source": []
  },
  {
   "cell_type": "markdown",
   "id": "35eef7a7",
   "metadata": {},
   "source": [
    "`Creating the FigureWidget() Object here `"
   ]
  },
  {
   "cell_type": "code",
   "execution_count": 5,
   "id": "dd2ef629",
   "metadata": {},
   "outputs": [],
   "source": [
    "fig=go.FigureWidget()\n"
   ]
  },
  {
   "cell_type": "markdown",
   "id": "a45cbd83",
   "metadata": {},
   "source": [
    "`Adding the Bubbles scatter_plot using add_scatter Funcation To our fig ...`"
   ]
  },
  {
   "cell_type": "code",
   "execution_count": 6,
   "id": "61094ca1",
   "metadata": {},
   "outputs": [],
   "source": [
    "Bubbles=fig.add_scatter(x=data_frame['X-axis'],y=data_frame['Y-axis'],\n",
    "                mode='markers',\n",
    "                text=data_frame['Label'],\n",
    "                marker=dict(\n",
    "                color=colours,\n",
    "                size=data_frame['Bubble_size'])\n",
    "               )\n",
    "\n",
    "\n",
    "\n",
    "\n"
   ]
  },
  {
   "cell_type": "markdown",
   "id": "56936aaf",
   "metadata": {},
   "source": [
    "`Showing what is inside our Bubbles... ALl the parameters Label,color,x and y values `"
   ]
  },
  {
   "cell_type": "code",
   "execution_count": 7,
   "id": "c92d1cef",
   "metadata": {},
   "outputs": [
    {
     "data": {
      "text/plain": [
       "Scatter({\n",
       "    'marker': {'color': [rgb(0, 0, 255), rgb(255, 0, 0), rgb(0, 255, 0), rgb(255,\n",
       "                         255, 0), rgb(0, 0, 255), rgb(255, 0, 0), rgb(0, 255, 0),\n",
       "                         rgb(255, 255, 0), rgb(0, 0, 255), rgb(255, 0, 0)],\n",
       "               'size': array([ 3, 11, 15,  4,  1, 11,  2,  5, 16, 13], dtype=int64)},\n",
       "    'mode': 'markers',\n",
       "    'text': array(['NCT00897468', 'NCT00655005', 'NCT00897650', 'NCT00193037',\n",
       "                   'NCT05051631', 'NCT01141218', 'NCT00949052', 'NCT00474604',\n",
       "                   'NCT00004225', 'NCT00471718'], dtype=object),\n",
       "    'uid': '42f50177-68ea-4144-8b10-91a0e8b3529a',\n",
       "    'x': array([10,  2,  7, 12, 12, 19,  4, 10,  5,  4], dtype=int64),\n",
       "    'y': array([ 4, 19,  5, 12,  8,  8, 20,  1,  5, 19], dtype=int64)\n",
       "})"
      ]
     },
     "execution_count": 7,
     "metadata": {},
     "output_type": "execute_result"
    }
   ],
   "source": [
    "Bubbles=Bubbles.data[0]\n",
    "Bubbles"
   ]
  },
  {
   "cell_type": "code",
   "execution_count": null,
   "id": "18ef0d77",
   "metadata": {},
   "outputs": [],
   "source": []
  },
  {
   "cell_type": "markdown",
   "id": "0696e082",
   "metadata": {},
   "source": [
    "`Finally is to adding the url into our Bubble plot and opening into our webbrowser just clicking on it...`"
   ]
  },
  {
   "cell_type": "code",
   "execution_count": 8,
   "id": "bdc49cad",
   "metadata": {
    "scrolled": true
   },
   "outputs": [
    {
     "data": {
      "application/vnd.jupyter.widget-view+json": {
       "model_id": "d47133b7e9a4414bbf611697a1f042b8",
       "version_major": 2,
       "version_minor": 0
      },
      "text/plain": [
       "VBox(children=(FigureWidget({\n",
       "    'data': [{'marker': {'color': [rgb(0, 0, 255), rgb(255, 0, 0), rgb(0, 255, 0…"
      ]
     },
     "metadata": {},
     "output_type": "display_data"
    }
   ],
   "source": [
    "out = Output()\n",
    "@out.capture(clear_output=True)\n",
    "def do_click(trace, points, state):   # do_click function for the interfacing the url with webbrowser\n",
    "    if points.point_inds:  \n",
    "        ind = points.point_inds[0]\n",
    "        url = data_frame.url.iloc[ind]\n",
    "        webbrowser.open_new_tab(url)\n",
    "        print(points.point_inds)\n",
    "\n",
    "Bubbles.on_click(do_click)\n",
    "VBox([fig, out])"
   ]
  },
  {
   "cell_type": "code",
   "execution_count": 9,
   "id": "6a07e84f",
   "metadata": {},
   "outputs": [],
   "source": [
    "# Woooooooohhhhh\n",
    "# when you will pointer on each plot it will show you the lable of the\n",
    "# bubble and by clicking it will took you to the webbrowserss"
   ]
  },
  {
   "cell_type": "code",
   "execution_count": null,
   "id": "fd7c77a9",
   "metadata": {},
   "outputs": [],
   "source": []
  }
 ],
 "metadata": {
  "kernelspec": {
   "display_name": "Python 3 (ipykernel)",
   "language": "python",
   "name": "python3"
  },
  "language_info": {
   "codemirror_mode": {
    "name": "ipython",
    "version": 3
   },
   "file_extension": ".py",
   "mimetype": "text/x-python",
   "name": "python",
   "nbconvert_exporter": "python",
   "pygments_lexer": "ipython3",
   "version": "3.8.13"
  }
 },
 "nbformat": 4,
 "nbformat_minor": 5
}
